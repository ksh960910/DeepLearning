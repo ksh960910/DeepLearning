{
 "cells": [
  {
   "cell_type": "markdown",
   "id": "narrative-arthur",
   "metadata": {},
   "source": [
    "### Fashion MNIST 데이터 전처리\n",
    "- images 는 0 ~ 255의 숫자로 되어 있는데 0 ~ 1 사이의 값으로 변경해주면 성능 향상\n",
    "- label 값이 category 형식의 문자열이기 때문에 one hot encoding 적용\n",
    "- 위의 데이터로 train, validation, test set 나눠줌"
   ]
  },
  {
   "cell_type": "code",
   "execution_count": 4,
   "id": "consolidated-florist",
   "metadata": {},
   "outputs": [
    {
     "name": "stdout",
     "output_type": "stream",
     "text": [
      "(60000, 28, 28) (10000, 28, 28)\n",
      "(51000, 28, 28) (9000, 28, 28) (10000, 28, 28)\n"
     ]
    }
   ],
   "source": [
    "import numpy as np\n",
    "from tensorflow.keras.layers import Input, Conv2D, MaxPooling2D, Dense, Flatten\n",
    "from tensorflow.keras.models import Model\n",
    "from tensorflow.keras.datasets import fashion_mnist\n",
    "from tensorflow.keras.utils import to_categorical\n",
    "from sklearn.model_selection import train_test_split\n",
    "from tensorflow.keras.optimizers import Adam\n",
    "from tensorflow.keras.losses import CategoricalCrossentropy\n",
    "from tensorflow.keras.metrics import Accuracy\n",
    "\n",
    "(train_images, train_labels), (test_images, test_labels) = fashion_mnist.load_data()\n",
    "\n",
    "def get_preprocessed_data(images, labels):\n",
    "    images = np.array(images/255.0, dtype=np.float32)\n",
    "    labels = np.array(labels, dtype=np.float32)\n",
    "    \n",
    "    return images, labels\n",
    "\n",
    "def get_preprocessed_ohe(images, labels):\n",
    "    images, labels = get_preprocessed_data(images, labels)\n",
    "    oh_labels = to_categorical(labels)\n",
    "    return images, oh_labels\n",
    "\n",
    "def get_train_valid_test_set(train_images, train_labels, test_images, test_labels, valid_size=0.15, random_state=23):\n",
    "    train_images, train_oh_labels = get_preprocessed_ohe(train_images, train_labels)\n",
    "    test_images, test_oh_labels = get_preprocessed_ohe(test_images, test_labels)\n",
    "    \n",
    "    tr_images, val_images, tr_oh_labels, val_oh_labels = train_test_split(train_images, train_oh_labels, test_size=valid_size, random_state=random_state)\n",
    "    \n",
    "    return (tr_images, tr_oh_labels), (val_images, val_oh_labels), (test_images, test_oh_labels)\n",
    "\n",
    "(tr_images, tr_oh_labels), (val_images, val_oh_labels), (test_images, test_oh_labels) = \\\n",
    "    get_train_valid_test_set(train_images, train_labels, test_images, test_labels, valid_size=0.15, random_state=23)\n",
    "print(train_images.shape, test_images.shape)\n",
    "print(tr_images.shape, val_images.shape, test_images.shape)"
   ]
  },
  {
   "cell_type": "markdown",
   "id": "flying-opposition",
   "metadata": {},
   "source": [
    "### CNN 개요\n",
    "- CNN은 convolution layer + pooling layer의 반복으로 구성\n",
    "- 크게보면 '특징 추출(Convolution)' + '분류기(Classifier)' 으로 구성된다고 보면됨\n",
    "- 분류기에 Dense layer, dropout layer가 포함"
   ]
  },
  {
   "cell_type": "markdown",
   "id": "prepared-apparel",
   "metadata": {},
   "source": [
    "- ```Input()```으로 넣어줄때 grayscale의 이미지는 2차원이지만 텐서플로우를 위해 3차원으로 넣어줌\n",
    "#### kernel 이 여러개 모여서 filter를 이루는것. filter 하나에 kernel이 몇개있는지 아는 법 --> Input shape의 차원수와 동일함 (28, 28, 1) 이면 filter당 kernel 도 1개\n",
    "\n",
    "\n",
    "- ```strides```는 sliding window를 몇칸을 움직일지 정하는것 =  window size = 필터를 얼만큼씩 움직이는지\n",
    "- ```padding```= same으로 해주면 convolution 이후 원본과 같은 크기를 유지하도록 zero padding 해줌\n",
    "- ```MaxPooling```은 필터를 갖다댔을때 가장 큰 값만 추출하는 것\n",
    "\n",
    " - 위의 과정을 마치면 3차원의 Feature map 결과가 나오는데, 이걸 fully connected 하기 위해선 Flatten을 적용해야함"
   ]
  },
  {
   "cell_type": "code",
   "execution_count": 7,
   "id": "detected-final",
   "metadata": {},
   "outputs": [
    {
     "name": "stdout",
     "output_type": "stream",
     "text": [
      "Model: \"model_1\"\n",
      "_________________________________________________________________\n",
      "Layer (type)                 Output Shape              Param #   \n",
      "=================================================================\n",
      "input_2 (InputLayer)         [(None, 28, 28, 1)]       0         \n",
      "_________________________________________________________________\n",
      "conv2d_2 (Conv2D)            (None, 28, 28, 32)        320       \n",
      "_________________________________________________________________\n",
      "conv2d_3 (Conv2D)            (None, 26, 26, 64)        18496     \n",
      "_________________________________________________________________\n",
      "max_pooling2d_1 (MaxPooling2 (None, 13, 13, 64)        0         \n",
      "_________________________________________________________________\n",
      "flatten_1 (Flatten)          (None, 10816)             0         \n",
      "_________________________________________________________________\n",
      "dense_2 (Dense)              (None, 100)               1081700   \n",
      "_________________________________________________________________\n",
      "dense_3 (Dense)              (None, 10)                1010      \n",
      "=================================================================\n",
      "Total params: 1,101,526\n",
      "Trainable params: 1,101,526\n",
      "Non-trainable params: 0\n",
      "_________________________________________________________________\n"
     ]
    }
   ],
   "source": [
    "input_tensor = Input(shape=(28,28,1))\n",
    "x = Conv2D(filters=32, kernel_size=3, strides=1, padding='same', activation='relu')(input_tensor)\n",
    "x = Conv2D(filters=64, kernel_size=3, activation='relu')(x)\n",
    "x = MaxPooling2D(2)(x)\n",
    "\n",
    "x = Flatten()(x)\n",
    "x = Dense(100, activation='relu')(x)\n",
    "output = Dense(10, activation='softmax')(x)\n",
    "model = Model(inputs=input_tensor, outputs=output)\n",
    "model.summary()\n",
    "model.compile(optimizer=Adam(0.001), loss='categorical_crossentropy', metrics=['accuracy'])"
   ]
  },
  {
   "cell_type": "code",
   "execution_count": 9,
   "id": "indian-exhibit",
   "metadata": {},
   "outputs": [
    {
     "name": "stdout",
     "output_type": "stream",
     "text": [
      "Epoch 1/10\n",
      "399/399 [==============================] - 57s 144ms/step - loss: 0.2847 - accuracy: 0.8976 - val_loss: 0.2679 - val_accuracy: 0.9032\n",
      "Epoch 2/10\n",
      "399/399 [==============================] - 57s 143ms/step - loss: 0.2241 - accuracy: 0.9187 - val_loss: 0.2525 - val_accuracy: 0.9111\n",
      "Epoch 3/10\n",
      "399/399 [==============================] - 57s 143ms/step - loss: 0.1879 - accuracy: 0.9302 - val_loss: 0.2253 - val_accuracy: 0.9204\n",
      "Epoch 4/10\n",
      "399/399 [==============================] - 57s 143ms/step - loss: 0.1539 - accuracy: 0.9430 - val_loss: 0.2152 - val_accuracy: 0.9247\n",
      "Epoch 5/10\n",
      "399/399 [==============================] - 58s 144ms/step - loss: 0.1272 - accuracy: 0.9530 - val_loss: 0.2172 - val_accuracy: 0.9303\n",
      "Epoch 6/10\n",
      "399/399 [==============================] - 58s 145ms/step - loss: 0.1018 - accuracy: 0.9633 - val_loss: 0.2472 - val_accuracy: 0.9202\n",
      "Epoch 7/10\n",
      "399/399 [==============================] - 60s 150ms/step - loss: 0.0814 - accuracy: 0.9710 - val_loss: 0.2456 - val_accuracy: 0.9273\n",
      "Epoch 8/10\n",
      "399/399 [==============================] - 64s 159ms/step - loss: 0.0632 - accuracy: 0.9782 - val_loss: 0.2772 - val_accuracy: 0.9224\n",
      "Epoch 9/10\n",
      "399/399 [==============================] - 66s 165ms/step - loss: 0.0493 - accuracy: 0.9825 - val_loss: 0.2913 - val_accuracy: 0.9281\n",
      "Epoch 10/10\n",
      "399/399 [==============================] - 62s 156ms/step - loss: 0.0381 - accuracy: 0.9865 - val_loss: 0.3195 - val_accuracy: 0.9254\n"
     ]
    }
   ],
   "source": [
    "history = model.fit(x=tr_images, y=tr_oh_labels, batch_size=128, epochs=10, validation_data=(val_images, val_oh_labels))"
   ]
  },
  {
   "cell_type": "code",
   "execution_count": 10,
   "id": "infectious-munich",
   "metadata": {},
   "outputs": [
    {
     "data": {
      "image/png": "[encoded data removed]",
      "text/plain": [
       "<Figure size 432x288 with 1 Axes>"
      ]
     },
     "metadata": {
      "needs_background": "light"
     },
     "output_type": "display_data"
    }
   ],
   "source": [
    "import matplotlib.pyplot as plt\n",
    "%matplotlib inline\n",
    "\n",
    "def show_history(history):\n",
    "    plt.plot(history.history['accuracy'], label='train')\n",
    "    plt.plot(history.history['val_accuracy'], label='valid')\n",
    "    plt.legend()\n",
    "\n",
    "show_history(history)"
   ]
  },
  {
   "cell_type": "code",
   "execution_count": 11,
   "id": "acknowledged-vegetable",
   "metadata": {},
   "outputs": [
    {
     "name": "stdout",
     "output_type": "stream",
     "text": [
      "40/40 [==============================] - 2s 53ms/step - loss: 0.3285 - accuracy: 0.9212\n"
     ]
    },
    {
     "data": {
      "text/plain": [
       "[0.3284514844417572, 0.9211999773979187]"
      ]
     },
     "execution_count": 11,
     "metadata": {},
     "output_type": "execute_result"
    }
   ],
   "source": [
    "model.evaluate(test_images, test_oh_labels, batch_size=256, verbose=1)"
   ]
  },
  {
   "cell_type": "markdown",
   "id": "canadian-theorem",
   "metadata": {},
   "source": [
    "### Dropout 적용하여 Fully Connected Layer의 오버피팅 조정\n",
    "- Flatten을 하여 fully connect하게 되면 파라미터가 매우 늘어나면서 오버피팅 발생할 확률 증가\n",
    "- 위의 실행결과를 보면 train에 대해서는 빠르게 1에 가까워졌는데 validation은 그에 비해 못미치는 성능으로 제자리 걸음하고있기 때문\n",
    "- Dropout을 적용하면 특정 비율로 FC Layer 연결을 누락하여 계산 (model.summary에는 연결 끊어진것이 나오지는 않음)"
   ]
  },
  {
   "cell_type": "code",
   "execution_count": 12,
   "id": "choice-state",
   "metadata": {},
   "outputs": [
    {
     "name": "stdout",
     "output_type": "stream",
     "text": [
      "Model: \"model_2\"\n",
      "_________________________________________________________________\n",
      "Layer (type)                 Output Shape              Param #   \n",
      "=================================================================\n",
      "input_3 (InputLayer)         [(None, 28, 28, 1)]       0         \n",
      "_________________________________________________________________\n",
      "conv2d_4 (Conv2D)            (None, 28, 28, 32)        320       \n",
      "_________________________________________________________________\n",
      "conv2d_5 (Conv2D)            (None, 26, 26, 64)        18496     \n",
      "_________________________________________________________________\n",
      "max_pooling2d_2 (MaxPooling2 (None, 13, 13, 64)        0         \n",
      "_________________________________________________________________\n",
      "flatten_2 (Flatten)          (None, 10816)             0         \n",
      "_________________________________________________________________\n",
      "dropout (Dropout)            (None, 10816)             0         \n",
      "_________________________________________________________________\n",
      "dense_4 (Dense)              (None, 100)               1081700   \n",
      "_________________________________________________________________\n",
      "dense_5 (Dense)              (None, 10)                1010      \n",
      "=================================================================\n",
      "Total params: 1,101,526\n",
      "Trainable params: 1,101,526\n",
      "Non-trainable params: 0\n",
      "_________________________________________________________________\n"
     ]
    }
   ],
   "source": [
    "from tensorflow.keras.layers import Dropout\n",
    "\n",
    "input_tensor = Input(shape=(28,28,1))\n",
    "x = Conv2D(filters=32, kernel_size=3, strides=1, padding='same', activation='relu')(input_tensor)\n",
    "x = Conv2D(filters=64, kernel_size=3, activation='relu')(x)\n",
    "x = MaxPooling2D(2)(x)\n",
    "\n",
    "x = Flatten()(x)\n",
    "x = Dropout(rate=0.5)(x)\n",
    "x = Dense(100, activation='relu')(x)\n",
    "output = Dense(10, activation='softmax')(x)\n",
    "model = Model(inputs=input_tensor, outputs=output)\n",
    "model.summary()\n",
    "model.compile(optimizer=Adam(0.001), loss='categorical_crossentropy', metrics=['accuracy'])"
   ]
  },
  {
   "cell_type": "code",
   "execution_count": 13,
   "id": "extended-evanescence",
   "metadata": {},
   "outputs": [
    {
     "name": "stdout",
     "output_type": "stream",
     "text": [
      "Epoch 1/10\n",
      "399/399 [==============================] - 65s 162ms/step - loss: 0.6487 - accuracy: 0.7667 - val_loss: 0.3397 - val_accuracy: 0.8813\n",
      "Epoch 2/10\n",
      "399/399 [==============================] - 66s 167ms/step - loss: 0.3233 - accuracy: 0.8845 - val_loss: 0.2692 - val_accuracy: 0.9042\n",
      "Epoch 3/10\n",
      "399/399 [==============================] - 66s 165ms/step - loss: 0.2675 - accuracy: 0.9017 - val_loss: 0.2398 - val_accuracy: 0.9133\n",
      "Epoch 4/10\n",
      "399/399 [==============================] - 64s 160ms/step - loss: 0.2288 - accuracy: 0.9146 - val_loss: 0.2298 - val_accuracy: 0.9184\n",
      "Epoch 5/10\n",
      "399/399 [==============================] - 63s 157ms/step - loss: 0.2019 - accuracy: 0.9243 - val_loss: 0.2142 - val_accuracy: 0.9247\n",
      "Epoch 6/10\n",
      "399/399 [==============================] - 66s 165ms/step - loss: 0.1863 - accuracy: 0.9320 - val_loss: 0.2151 - val_accuracy: 0.9238\n",
      "Epoch 7/10\n",
      "399/399 [==============================] - 67s 167ms/step - loss: 0.1655 - accuracy: 0.9399 - val_loss: 0.2088 - val_accuracy: 0.9264\n",
      "Epoch 8/10\n",
      "399/399 [==============================] - 65s 164ms/step - loss: 0.1455 - accuracy: 0.9471 - val_loss: 0.2155 - val_accuracy: 0.9261\n",
      "Epoch 9/10\n",
      "399/399 [==============================] - 65s 163ms/step - loss: 0.1330 - accuracy: 0.9509 - val_loss: 0.2124 - val_accuracy: 0.9291\n",
      "Epoch 10/10\n",
      "399/399 [==============================] - 65s 163ms/step - loss: 0.1195 - accuracy: 0.9554 - val_loss: 0.2084 - val_accuracy: 0.9326\n"
     ]
    }
   ],
   "source": [
    "history = model.fit(x=tr_images, y=tr_oh_labels, batch_size=128, epochs=10, validation_data=(val_images, val_oh_labels))"
   ]
  },
  {
   "cell_type": "code",
   "execution_count": 14,
   "id": "reasonable-commonwealth",
   "metadata": {},
   "outputs": [
    {
     "name": "stdout",
     "output_type": "stream",
     "text": [
      "40/40 [==============================] - 2s 56ms/step - loss: 0.2272 - accuracy: 0.9261\n"
     ]
    },
    {
     "data": {
      "text/plain": [
       "[0.22724871337413788, 0.9261000156402588]"
      ]
     },
     "execution_count": 14,
     "metadata": {},
     "output_type": "execute_result"
    },
    {
     "data": {
      "image/png": "[encoded data removed]",
      "text/plain": [
       "<Figure size 432x288 with 1 Axes>"
      ]
     },
     "metadata": {
      "needs_background": "light"
     },
     "output_type": "display_data"
    }
   ],
   "source": [
    "show_history(history)\n",
    "model.evaluate(test_images, test_oh_labels, batch_size=256, verbose=1)"
   ]
  }
 ],
 "metadata": {
  "kernelspec": {
   "display_name": "Python 3",
   "language": "python",
   "name": "python3"
  },
  "language_info": {
   "codemirror_mode": {
    "name": "ipython",
    "version": 3
   },
   "file_extension": ".py",
   "mimetype": "text/x-python",
   "name": "python",
   "nbconvert_exporter": "python",
   "pygments_lexer": "ipython3",
   "version": "3.8.3"
  },
  "toc": {
   "base_numbering": 1,
   "nav_menu": {
    "height": "63px",
    "width": "169px"
   },
   "number_sections": true,
   "sideBar": true,
   "skip_h1_title": false,
   "title_cell": "Table of Contents",
   "title_sidebar": "Contents",
   "toc_cell": false,
   "toc_position": {},
   "toc_section_display": true,
   "toc_window_display": false
  }
 },
 "nbformat": 4,
 "nbformat_minor": 5
}
