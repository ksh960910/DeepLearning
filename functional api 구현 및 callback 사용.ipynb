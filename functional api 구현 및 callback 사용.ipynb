{
 "cells": [
  {
   "cell_type": "code",
   "execution_count": 1,
   "id": "center-convertible",
   "metadata": {},
   "outputs": [],
   "source": [
    "from tensorflow.keras.layers import Dense, Layer, Input, Flatten\n",
    "from tensorflow.keras.models import Model\n",
    "import tensorflow as tf\n",
    "import numpy as np\n",
    "from sklearn.model_selection import train_test_split\n",
    "from tensorflow.keras.utils import to_categorical\n",
    "from tensorflow.keras.datasets import fashion_mnist\n",
    "\n",
    "(train_images, train_labels), (test_images, test_labels) = fashion_mnist.load_data()\n",
    "\n",
    "def create_model():\n",
    "    input_tensor = Input(shape=(28,28))\n",
    "    x = Flatten()(input_tensor)\n",
    "    x = Dense(100, activation='relu')(x)\n",
    "    x = Dense(30, activation='relu')(x)\n",
    "    output = Dense(10, activation='softmax')(x)\n",
    "    \n",
    "    model = Model(inputs=input_tensor, outputs=output)\n",
    "    return model\n",
    "\n",
    "def get_preprocessed_data(images, labels):\n",
    "    images = np.array(images/255.0, dtype=np.float32)\n",
    "    labels = np.array(labels, dtype=np.float32)\n",
    "    \n",
    "    return images, labels\n",
    "\n",
    "def get_preprocessed_ohe(images, labels):\n",
    "    images, labels = get_preprocessed_data(images, labels)\n",
    "    oh_labels = to_categorical(labels)\n",
    "    \n",
    "    return images, oh_labels\n",
    "\n",
    "def get_train_valid_test_set(train_images, train_labels, test_images, test_labels, \n",
    "                             valid_size = 0.15, random_state=23):\n",
    "    train_images, train_oh_labels = get_preprocessed_ohe(train_images, train_labels)\n",
    "    test_images, test_oh_labels = get_preprocessed_ohe(test_images, test_labels)\n",
    "    \n",
    "    tr_images, val_images, tr_oh_labels, val_oh_labels = train_test_split(train_images, train_oh_labels,\n",
    "                                                                   test_size= valid_size, random_state = random_state)\n",
    "    return (tr_images, tr_oh_labels), (val_images, val_oh_labels), (test_images, test_oh_labels)"
   ]
  },
  {
   "cell_type": "code",
   "execution_count": 2,
   "id": "insured-delta",
   "metadata": {},
   "outputs": [
    {
     "name": "stdout",
     "output_type": "stream",
     "text": [
      "(51000, 28, 28) (51000, 10) (9000, 28, 28) (9000, 10) (10000, 28, 28) (10000, 10)\n"
     ]
    }
   ],
   "source": [
    "(tr_images, tr_oh_labels), (val_images, val_oh_labels), (test_images, test_oh_labels) = \\\n",
    "    get_train_valid_test_set(train_images, train_labels, test_images, test_labels)\n",
    "\n",
    "print(tr_images.shape, tr_oh_labels.shape, val_images.shape, val_oh_labels.shape, test_images.shape, test_oh_labels.shape)"
   ]
  },
  {
   "cell_type": "code",
   "execution_count": 3,
   "id": "above-chambers",
   "metadata": {},
   "outputs": [
    {
     "name": "stdout",
     "output_type": "stream",
     "text": [
      "Model: \"model\"\n",
      "_________________________________________________________________\n",
      "Layer (type)                 Output Shape              Param #   \n",
      "=================================================================\n",
      "input_1 (InputLayer)         [(None, 28, 28)]          0         \n",
      "_________________________________________________________________\n",
      "flatten (Flatten)            (None, 784)               0         \n",
      "_________________________________________________________________\n",
      "dense (Dense)                (None, 100)               78500     \n",
      "_________________________________________________________________\n",
      "dense_1 (Dense)              (None, 30)                3030      \n",
      "_________________________________________________________________\n",
      "dense_2 (Dense)              (None, 10)                310       \n",
      "=================================================================\n",
      "Total params: 81,840\n",
      "Trainable params: 81,840\n",
      "Non-trainable params: 0\n",
      "_________________________________________________________________\n"
     ]
    }
   ],
   "source": [
    "from tensorflow.keras.optimizers import Adam\n",
    "\n",
    "model = create_model()\n",
    "model.summary()\n",
    "model.compile(optimizer=Adam(0.001), loss='categorical_crossentropy', metrics=['accuracy'])"
   ]
  },
  {
   "cell_type": "code",
   "execution_count": 29,
   "id": "european-relation",
   "metadata": {
    "scrolled": true
   },
   "outputs": [
    {
     "name": "stdout",
     "output_type": "stream",
     "text": [
      "Epoch 1/20\n",
      "1594/1594 [==============================] - 3s 1ms/step - loss: 0.7079 - accuracy: 0.7530 - val_loss: 0.4089 - val_accuracy: 0.8586\n",
      "Epoch 2/20\n",
      "1594/1594 [==============================] - 2s 1ms/step - loss: 0.4021 - accuracy: 0.8569 - val_loss: 0.3661 - val_accuracy: 0.8657\n",
      "Epoch 3/20\n",
      "1594/1594 [==============================] - 2s 1ms/step - loss: 0.3483 - accuracy: 0.8745 - val_loss: 0.3615 - val_accuracy: 0.8648\n",
      "Epoch 4/20\n",
      "1594/1594 [==============================] - 2s 1ms/step - loss: 0.3282 - accuracy: 0.8810 - val_loss: 0.3424 - val_accuracy: 0.8752\n",
      "Epoch 5/20\n",
      "1594/1594 [==============================] - 2s 1ms/step - loss: 0.3039 - accuracy: 0.8894 - val_loss: 0.3363 - val_accuracy: 0.8836\n",
      "Epoch 6/20\n",
      "1594/1594 [==============================] - 2s 1ms/step - loss: 0.2968 - accuracy: 0.8917 - val_loss: 0.3260 - val_accuracy: 0.8824\n",
      "Epoch 7/20\n",
      "1594/1594 [==============================] - 2s 1ms/step - loss: 0.2806 - accuracy: 0.8943 - val_loss: 0.3295 - val_accuracy: 0.8811\n",
      "Epoch 8/20\n",
      "1594/1594 [==============================] - 2s 1ms/step - loss: 0.2733 - accuracy: 0.8996 - val_loss: 0.3234 - val_accuracy: 0.8823\n",
      "Epoch 9/20\n",
      "1594/1594 [==============================] - 2s 1ms/step - loss: 0.2541 - accuracy: 0.9049 - val_loss: 0.3134 - val_accuracy: 0.8888\n",
      "Epoch 10/20\n",
      "1594/1594 [==============================] - 2s 1ms/step - loss: 0.2473 - accuracy: 0.9085 - val_loss: 0.3202 - val_accuracy: 0.8878\n",
      "Epoch 11/20\n",
      "1594/1594 [==============================] - 2s 1ms/step - loss: 0.2412 - accuracy: 0.9095 - val_loss: 0.3199 - val_accuracy: 0.8894\n",
      "Epoch 12/20\n",
      "1594/1594 [==============================] - 2s 1ms/step - loss: 0.2319 - accuracy: 0.9114 - val_loss: 0.3150 - val_accuracy: 0.8920\n",
      "Epoch 13/20\n",
      "1594/1594 [==============================] - 2s 1ms/step - loss: 0.2250 - accuracy: 0.9158 - val_loss: 0.3141 - val_accuracy: 0.8900\n",
      "Epoch 14/20\n",
      "1594/1594 [==============================] - 2s 1ms/step - loss: 0.2202 - accuracy: 0.9172 - val_loss: 0.3138 - val_accuracy: 0.8911\n",
      "Epoch 15/20\n",
      "1594/1594 [==============================] - 2s 1ms/step - loss: 0.2174 - accuracy: 0.9188 - val_loss: 0.3167 - val_accuracy: 0.8941\n",
      "Epoch 16/20\n",
      "1594/1594 [==============================] - 2s 1ms/step - loss: 0.2122 - accuracy: 0.9193 - val_loss: 0.3307 - val_accuracy: 0.8879\n",
      "Epoch 17/20\n",
      "1594/1594 [==============================] - 2s 1ms/step - loss: 0.2026 - accuracy: 0.9245 - val_loss: 0.3238 - val_accuracy: 0.8919\n",
      "Epoch 18/20\n",
      "1594/1594 [==============================] - 2s 1ms/step - loss: 0.1989 - accuracy: 0.9270 - val_loss: 0.3151 - val_accuracy: 0.8959\n",
      "Epoch 19/20\n",
      "1594/1594 [==============================] - 2s 1ms/step - loss: 0.1942 - accuracy: 0.9273 - val_loss: 0.3296 - val_accuracy: 0.8938\n",
      "Epoch 20/20\n",
      "1594/1594 [==============================] - 2s 1ms/step - loss: 0.1902 - accuracy: 0.9272 - val_loss: 0.3484 - val_accuracy: 0.8853\n"
     ]
    }
   ],
   "source": [
    "history = model.fit(x=tr_images, y=tr_oh_labels, batch_size=32, epochs=20,\n",
    "                   validation_data=(val_images, val_oh_labels))"
   ]
  },
  {
   "cell_type": "code",
   "execution_count": 30,
   "id": "physical-portuguese",
   "metadata": {},
   "outputs": [
    {
     "data": {
      "image/png": "[encoded data removed]",
      "text/plain": [
       "<Figure size 432x288 with 1 Axes>"
      ]
     },
     "metadata": {
      "needs_background": "light"
     },
     "output_type": "display_data"
    }
   ],
   "source": [
    "import matplotlib.pyplot as plt\n",
    "\n",
    "def show_history(history):\n",
    "    plt.plot(history.history['accuracy'], label='train')\n",
    "    plt.plot(history.history['val_accuracy'], label='valid')\n",
    "    plt.legend()\n",
    "show_history(history)"
   ]
  },
  {
   "cell_type": "code",
   "execution_count": 31,
   "id": "integrated-subscriber",
   "metadata": {},
   "outputs": [
    {
     "name": "stdout",
     "output_type": "stream",
     "text": [
      "40/40 [==============================] - 0s 1ms/step - loss: 0.3818 - accuracy: 0.8797\n"
     ]
    },
    {
     "data": {
      "text/plain": [
       "[0.38176432251930237, 0.8797000050544739]"
      ]
     },
     "execution_count": 31,
     "metadata": {},
     "output_type": "execute_result"
    }
   ],
   "source": [
    "model.evaluate(test_images, test_oh_labels, batch_size=256, verbose=1)"
   ]
  },
  {
   "cell_type": "markdown",
   "id": "mechanical-commonwealth",
   "metadata": {},
   "source": [
    "## Callback\n",
    "\n",
    "#### ModelCheckpoint(filepath, monitor='val_loss',verbose=0,save_best_only=False, save_weights_only=False,mode='auto', period=1)\n",
    "\n",
    "- 특정 조건에 맞춰서 모델을 파일로 저장\n",
    "- filepath : weights.{epoch:02d}-{val_loss:.2f}.hdf5라면 파일 이름에 세대 번호와 검증 손실을 너헝 모델의 체크포인트가 저장\n",
    "- monitor : monitor할 지표(loss, 평가지표)\n",
    "- mode : 모니터지표가 감소해야 좋을경우 min, 증가해야좋을 경우 max"
   ]
  },
  {
   "cell_type": "code",
   "execution_count": 41,
   "id": "provincial-virgin",
   "metadata": {
    "scrolled": true
   },
   "outputs": [
    {
     "name": "stdout",
     "output_type": "stream",
     "text": [
      "C:\\Users\\김상헌\\혼자공부\n"
     ]
    }
   ],
   "source": [
    "!cd"
   ]
  },
  {
   "cell_type": "code",
   "execution_count": 4,
   "id": "understanding-compiler",
   "metadata": {
    "scrolled": true
   },
   "outputs": [
    {
     "name": "stdout",
     "output_type": "stream",
     "text": [
      "WARNING:tensorflow:`period` argument is deprecated. Please use `save_freq` to specify the frequency in number of batches seen.\n",
      "Epoch 1/10\n",
      "1594/1594 [==============================] - 4s 2ms/step - loss: 0.6980 - accuracy: 0.7579 - val_loss: 0.4093 - val_accuracy: 0.8560\n",
      "Epoch 2/10\n",
      "1594/1594 [==============================] - 2s 1ms/step - loss: 0.4005 - accuracy: 0.8575 - val_loss: 0.3738 - val_accuracy: 0.8651\n",
      "Epoch 3/10\n",
      "1594/1594 [==============================] - 2s 1ms/step - loss: 0.3581 - accuracy: 0.8698 - val_loss: 0.3668 - val_accuracy: 0.8659\n",
      "Epoch 4/10\n",
      "1594/1594 [==============================] - 2s 1ms/step - loss: 0.3285 - accuracy: 0.8810 - val_loss: 0.3567 - val_accuracy: 0.8722\n",
      "Epoch 5/10\n",
      "1594/1594 [==============================] - 2s 1ms/step - loss: 0.3044 - accuracy: 0.8868 - val_loss: 0.3332 - val_accuracy: 0.8790\n",
      "\n",
      "Epoch 00005: val_loss improved from inf to 0.33319, saving model to C:/Users/김상헌/혼자공부\\weights.05-0.33.hdf5\n",
      "Epoch 6/10\n",
      "1594/1594 [==============================] - 2s 1ms/step - loss: 0.2929 - accuracy: 0.8926 - val_loss: 0.3240 - val_accuracy: 0.8823\n",
      "Epoch 7/10\n",
      "1594/1594 [==============================] - 2s 1ms/step - loss: 0.2833 - accuracy: 0.8945 - val_loss: 0.3297 - val_accuracy: 0.8831\n",
      "Epoch 8/10\n",
      "1594/1594 [==============================] - 2s 1ms/step - loss: 0.2634 - accuracy: 0.9025 - val_loss: 0.3090 - val_accuracy: 0.8886\n",
      "Epoch 9/10\n",
      "1594/1594 [==============================] - 2s 1ms/step - loss: 0.2579 - accuracy: 0.9031 - val_loss: 0.3161 - val_accuracy: 0.8896\n",
      "Epoch 10/10\n",
      "1594/1594 [==============================] - 2s 1ms/step - loss: 0.2498 - accuracy: 0.9053 - val_loss: 0.3146 - val_accuracy: 0.8872\n",
      "\n",
      "Epoch 00010: val_loss improved from 0.33319 to 0.31457, saving model to C:/Users/김상헌/혼자공부\\weights.10-0.31.hdf5\n"
     ]
    }
   ],
   "source": [
    "from tensorflow.keras.callbacks import ModelCheckpoint\n",
    "\n",
    "model = create_model()\n",
    "model.compile(optimizer=Adam(0.001), loss='categorical_crossentropy', metrics=['accuracy'])\n",
    "\n",
    "mcp_cb = ModelCheckpoint(filepath='C:/Users/김상헌/혼자공부/weights.{epoch:02d}-{val_loss:.2f}.hdf5', monitor='val_loss',\n",
    "                        save_best_only=True, save_weights_only=True, mode='min', period=5, verbose=1)\n",
    "\n",
    "history = model.fit(x=tr_images, y=tr_oh_labels, batch_size=32, epochs=10, validation_data=(val_images, val_oh_labels),\n",
    "                   callbacks=[mcp_cb])"
   ]
  },
  {
   "cell_type": "markdown",
   "id": "automated-study",
   "metadata": {},
   "source": [
    "#### ReduceLROnPlateau(monitor='val_loss', factor=0.1, patience=10, verbose=0, mode='auto', min_delta=0.0001, cooldown=0, min_lr=0)\n",
    "\n",
    "- 특정 epochs 횟수동안 성능이 개선되지 않으면 learning rate를 동적으로 감소 시킴\n",
    "- factor : 학습 속도를 줄일 인수, new_lr = lr * factor\n",
    "- patience : learning rate 줄이기 전에 모니터링할 epoch 횟수"
   ]
  },
  {
   "cell_type": "code",
   "execution_count": 6,
   "id": "interracial-chain",
   "metadata": {
    "scrolled": true
   },
   "outputs": [
    {
     "name": "stdout",
     "output_type": "stream",
     "text": [
      "Epoch 1/30\n",
      "399/399 [==============================] - 1s 2ms/step - loss: 0.8305 - accuracy: 0.7180 - val_loss: 0.4645 - val_accuracy: 0.8346\n",
      "Epoch 2/30\n",
      "399/399 [==============================] - 1s 2ms/step - loss: 0.4294 - accuracy: 0.8488 - val_loss: 0.4329 - val_accuracy: 0.8478\n",
      "Epoch 3/30\n",
      "399/399 [==============================] - 1s 2ms/step - loss: 0.3851 - accuracy: 0.8629 - val_loss: 0.3750 - val_accuracy: 0.8677\n",
      "Epoch 4/30\n",
      "399/399 [==============================] - 1s 2ms/step - loss: 0.3468 - accuracy: 0.8761 - val_loss: 0.3617 - val_accuracy: 0.8696\n",
      "Epoch 5/30\n",
      "399/399 [==============================] - 1s 2ms/step - loss: 0.3354 - accuracy: 0.8784 - val_loss: 0.3448 - val_accuracy: 0.8752\n",
      "Epoch 6/30\n",
      "399/399 [==============================] - 1s 2ms/step - loss: 0.3194 - accuracy: 0.8824 - val_loss: 0.3314 - val_accuracy: 0.8826\n",
      "Epoch 7/30\n",
      "399/399 [==============================] - 1s 1ms/step - loss: 0.2983 - accuracy: 0.8928 - val_loss: 0.3346 - val_accuracy: 0.8811\n",
      "Epoch 8/30\n",
      "399/399 [==============================] - 1s 2ms/step - loss: 0.2905 - accuracy: 0.8936 - val_loss: 0.3294 - val_accuracy: 0.8842\n",
      "Epoch 9/30\n",
      "399/399 [==============================] - 1s 2ms/step - loss: 0.2812 - accuracy: 0.8973 - val_loss: 0.3270 - val_accuracy: 0.8861\n",
      "Epoch 10/30\n",
      "399/399 [==============================] - 1s 2ms/step - loss: 0.2675 - accuracy: 0.9009 - val_loss: 0.3174 - val_accuracy: 0.8876\n",
      "Epoch 11/30\n",
      "399/399 [==============================] - 1s 1ms/step - loss: 0.2575 - accuracy: 0.9064 - val_loss: 0.3134 - val_accuracy: 0.8874\n",
      "Epoch 12/30\n",
      "399/399 [==============================] - 1s 1ms/step - loss: 0.2551 - accuracy: 0.9043 - val_loss: 0.3235 - val_accuracy: 0.8863\n",
      "Epoch 13/30\n",
      "399/399 [==============================] - 1s 2ms/step - loss: 0.2496 - accuracy: 0.9075 - val_loss: 0.3225 - val_accuracy: 0.8844\n",
      "Epoch 14/30\n",
      "399/399 [==============================] - 1s 2ms/step - loss: 0.2422 - accuracy: 0.9108 - val_loss: 0.3152 - val_accuracy: 0.8900\n",
      "\n",
      "Epoch 00014: ReduceLROnPlateau reducing learning rate to 0.0003000000142492354.\n",
      "Epoch 15/30\n",
      "399/399 [==============================] - 1s 2ms/step - loss: 0.2131 - accuracy: 0.9218 - val_loss: 0.3000 - val_accuracy: 0.8957\n",
      "Epoch 16/30\n",
      "399/399 [==============================] - 1s 1ms/step - loss: 0.2106 - accuracy: 0.9228 - val_loss: 0.3040 - val_accuracy: 0.8940\n",
      "Epoch 17/30\n",
      "399/399 [==============================] - 1s 1ms/step - loss: 0.2025 - accuracy: 0.9268 - val_loss: 0.3056 - val_accuracy: 0.8951\n",
      "Epoch 18/30\n",
      "399/399 [==============================] - 1s 2ms/step - loss: 0.2051 - accuracy: 0.9248 - val_loss: 0.3080 - val_accuracy: 0.8947\n",
      "\n",
      "Epoch 00018: ReduceLROnPlateau reducing learning rate to 9.000000427477062e-05.\n",
      "Epoch 19/30\n",
      "399/399 [==============================] - 1s 2ms/step - loss: 0.1936 - accuracy: 0.9314 - val_loss: 0.3038 - val_accuracy: 0.8954\n",
      "Epoch 20/30\n",
      "399/399 [==============================] - 1s 2ms/step - loss: 0.1955 - accuracy: 0.9282 - val_loss: 0.3020 - val_accuracy: 0.8968\n",
      "Epoch 21/30\n",
      "399/399 [==============================] - 1s 1ms/step - loss: 0.1900 - accuracy: 0.9307 - val_loss: 0.3046 - val_accuracy: 0.8961\n",
      "\n",
      "Epoch 00021: ReduceLROnPlateau reducing learning rate to 2.700000040931627e-05.\n",
      "Epoch 22/30\n",
      "399/399 [==============================] - 1s 1ms/step - loss: 0.1912 - accuracy: 0.9329 - val_loss: 0.3023 - val_accuracy: 0.8974\n",
      "Epoch 23/30\n",
      "399/399 [==============================] - 1s 1ms/step - loss: 0.1898 - accuracy: 0.9320 - val_loss: 0.3020 - val_accuracy: 0.8974\n",
      "Epoch 24/30\n",
      "399/399 [==============================] - 1s 2ms/step - loss: 0.1889 - accuracy: 0.9329 - val_loss: 0.3021 - val_accuracy: 0.8973\n",
      "\n",
      "Epoch 00024: ReduceLROnPlateau reducing learning rate to 8.100000013655517e-06.\n",
      "Epoch 25/30\n",
      "399/399 [==============================] - 1s 2ms/step - loss: 0.1880 - accuracy: 0.9318 - val_loss: 0.3020 - val_accuracy: 0.8968\n",
      "Epoch 26/30\n",
      "399/399 [==============================] - 1s 2ms/step - loss: 0.1858 - accuracy: 0.9349 - val_loss: 0.3019 - val_accuracy: 0.8971\n",
      "Epoch 27/30\n",
      "399/399 [==============================] - 1s 2ms/step - loss: 0.1835 - accuracy: 0.9351 - val_loss: 0.3017 - val_accuracy: 0.8974\n",
      "\n",
      "Epoch 00027: ReduceLROnPlateau reducing learning rate to 2.429999949526973e-06.\n",
      "Epoch 28/30\n",
      "399/399 [==============================] - 1s 2ms/step - loss: 0.1866 - accuracy: 0.9336 - val_loss: 0.3018 - val_accuracy: 0.8972\n",
      "Epoch 29/30\n",
      "399/399 [==============================] - 1s 2ms/step - loss: 0.1829 - accuracy: 0.9358 - val_loss: 0.3018 - val_accuracy: 0.8971\n",
      "Epoch 30/30\n",
      "399/399 [==============================] - 1s 2ms/step - loss: 0.1890 - accuracy: 0.9314 - val_loss: 0.3018 - val_accuracy: 0.8973\n",
      "\n",
      "Epoch 00030: ReduceLROnPlateau reducing learning rate to 7.289999985005124e-07.\n"
     ]
    }
   ],
   "source": [
    "from tensorflow.keras.callbacks import ReduceLROnPlateau\n",
    "\n",
    "model = create_model()\n",
    "model.compile(optimizer=Adam(0.001), loss='categorical_crossentropy', metrics=['accuracy'])\n",
    "\n",
    "rlr_cb = ReduceLROnPlateau(monitor='val_loss', factor=0.3, patience=3, mode='min', verbose=1)\n",
    "history = model.fit(x=tr_images, y=tr_oh_labels, batch_size=128, epochs=30, validation_data=(val_images, val_oh_labels),\n",
    "                    callbacks = [rlr_cb])"
   ]
  },
  {
   "cell_type": "markdown",
   "id": "spread-imaging",
   "metadata": {},
   "source": [
    "#### EarlyStopping(monitor='val_loss', min_delta=0, patience=0, verbose=0, mode='auto', baseline=None, restore_best_weights=False)\n",
    "\n",
    "- 특정 epochs 동안 성능이 개선되지 않을 시 학습을 조기에 중단\n",
    "- patience : Early stopping 적용 전에 모니터링할 epochs 횟수\n",
    "- 계속 학습시켜봐야 overfitting만 되고 성능이 개선되지 않을 경우를 방지하기 위해 사용"
   ]
  },
  {
   "cell_type": "code",
   "execution_count": 8,
   "id": "stopped-nancy",
   "metadata": {},
   "outputs": [
    {
     "name": "stdout",
     "output_type": "stream",
     "text": [
      "Epoch 1/30\n",
      "399/399 [==============================] - 1s 2ms/step - loss: 0.9062 - accuracy: 0.6920 - val_loss: 0.4245 - val_accuracy: 0.8522\n",
      "Epoch 2/30\n",
      "399/399 [==============================] - 1s 2ms/step - loss: 0.4248 - accuracy: 0.8488 - val_loss: 0.3864 - val_accuracy: 0.8628\n",
      "Epoch 3/30\n",
      "399/399 [==============================] - 1s 2ms/step - loss: 0.3785 - accuracy: 0.8660 - val_loss: 0.3714 - val_accuracy: 0.8693\n",
      "Epoch 4/30\n",
      "399/399 [==============================] - 1s 2ms/step - loss: 0.3478 - accuracy: 0.8764 - val_loss: 0.3721 - val_accuracy: 0.8646\n",
      "Epoch 5/30\n",
      "399/399 [==============================] - 1s 2ms/step - loss: 0.3316 - accuracy: 0.8791 - val_loss: 0.3616 - val_accuracy: 0.8679\n",
      "Epoch 6/30\n",
      "399/399 [==============================] - 1s 2ms/step - loss: 0.3145 - accuracy: 0.8862 - val_loss: 0.3292 - val_accuracy: 0.8842\n",
      "Epoch 7/30\n",
      "399/399 [==============================] - 1s 2ms/step - loss: 0.2954 - accuracy: 0.8927 - val_loss: 0.3212 - val_accuracy: 0.8846\n",
      "Epoch 8/30\n",
      "399/399 [==============================] - 1s 2ms/step - loss: 0.2869 - accuracy: 0.8957 - val_loss: 0.3280 - val_accuracy: 0.8831\n",
      "Epoch 9/30\n",
      "399/399 [==============================] - 1s 2ms/step - loss: 0.2845 - accuracy: 0.8969 - val_loss: 0.3311 - val_accuracy: 0.8814\n",
      "Epoch 10/30\n",
      "399/399 [==============================] - 1s 2ms/step - loss: 0.2646 - accuracy: 0.9033 - val_loss: 0.3078 - val_accuracy: 0.8901\n",
      "Epoch 11/30\n",
      "399/399 [==============================] - 1s 2ms/step - loss: 0.2651 - accuracy: 0.9005 - val_loss: 0.3063 - val_accuracy: 0.8907\n",
      "Epoch 12/30\n",
      "399/399 [==============================] - 1s 2ms/step - loss: 0.2557 - accuracy: 0.9061 - val_loss: 0.3281 - val_accuracy: 0.8843\n",
      "Epoch 13/30\n",
      "399/399 [==============================] - 1s 2ms/step - loss: 0.2470 - accuracy: 0.9077 - val_loss: 0.3330 - val_accuracy: 0.8828\n",
      "Epoch 14/30\n",
      "399/399 [==============================] - 1s 2ms/step - loss: 0.2408 - accuracy: 0.9118 - val_loss: 0.3302 - val_accuracy: 0.8847\n",
      "Epoch 00014: early stopping\n"
     ]
    }
   ],
   "source": [
    "from tensorflow.keras.callbacks import EarlyStopping\n",
    "model = create_model()\n",
    "model.compile(optimizer=Adam(0.001), loss='categorical_crossentropy', metrics=['accuracy'])\n",
    "\n",
    "ely_cb = EarlyStopping(monitor='val_loss', patience=3, mode='min', verbose=1)\n",
    "history = model.fit(x=tr_images, y=tr_oh_labels, batch_size=128, epochs=30, validation_data=(val_images, val_oh_labels),\n",
    "                    callbacks = [ely_cb]) "
   ]
  }
 ],
 "metadata": {
  "kernelspec": {
   "display_name": "Python 3",
   "language": "python",
   "name": "python3"
  },
  "language_info": {
   "codemirror_mode": {
    "name": "ipython",
    "version": 3
   },
   "file_extension": ".py",
   "mimetype": "text/x-python",
   "name": "python",
   "nbconvert_exporter": "python",
   "pygments_lexer": "ipython3",
   "version": "3.8.3"
  },
  "toc": {
   "base_numbering": 1,
   "nav_menu": {},
   "number_sections": true,
   "sideBar": true,
   "skip_h1_title": false,
   "title_cell": "Table of Contents",
   "title_sidebar": "Contents",
   "toc_cell": false,
   "toc_position": {},
   "toc_section_display": true,
   "toc_window_display": false
  }
 },
 "nbformat": 4,
 "nbformat_minor": 5
}
