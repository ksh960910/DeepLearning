{
 "cells": [
  {
   "cell_type": "code",
   "execution_count": 1,
   "metadata": {
    "_cell_guid": "b1076dfc-b9ad-4769-8c92-a6c4dae69d19",
    "_uuid": "8f2839f25d086af736a60e9eeb907d3b93b6e0e5"
   },
   "outputs": [],
   "source": [
    "# This Python 3 environment comes with many helpful analytics libraries installed\n",
    "# It is defined by the kaggle/python Docker image: https://github.com/kaggle/docker-python\n",
    "# For example, here's several helpful packages to load\n",
    "\n",
    "import numpy as np # linear algebra\n",
    "import pandas as pd # data processing, CSV file I/O (e.g. pd.read_csv)\n",
    "\n",
    "# Input data files are available in the read-only \"../input/\" directory\n",
    "# For example, running this (by clicking run or pressing Shift+Enter) will list all files under the input directory\n",
    "\n",
    "import os\n",
    "for dirname, _, filenames in os.walk('/kaggle/input'):\n",
    "    for filename in filenames:\n",
    "        print(os.path.join(dirname, filename))\n",
    "\n",
    "# You can write up to 20GB to the current directory (/kaggle/working/) that gets preserved as output when you create a version using \"Save & Run All\" \n",
    "# You can also write temporary files to /kaggle/temp/, but they won't be saved outside of the current session"
   ]
  },
  {
   "cell_type": "code",
   "execution_count": 2,
   "metadata": {},
   "outputs": [
    {
     "data": {
      "text/plain": [
       "(60000, 28, 28)"
      ]
     },
     "execution_count": 2,
     "metadata": {},
     "output_type": "execute_result"
    }
   ],
   "source": [
    "from tensorflow.keras.datasets import fashion_mnist\n",
    "\n",
    "(train_images, train_labels), (test_images, test_labels) = fashion_mnist.load_data()\n",
    "train_images.shape"
   ]
  },
  {
   "cell_type": "code",
   "execution_count": 3,
   "metadata": {},
   "outputs": [
    {
     "name": "stdout",
     "output_type": "stream",
     "text": [
      "Model: \"sequential\"\n",
      "_________________________________________________________________\n",
      "Layer (type)                 Output Shape              Param #   \n",
      "=================================================================\n",
      "flatten (Flatten)            (None, 784)               0         \n",
      "_________________________________________________________________\n",
      "dense (Dense)                (None, 100)               78500     \n",
      "_________________________________________________________________\n",
      "dense_1 (Dense)              (None, 30)                3030      \n",
      "_________________________________________________________________\n",
      "dense_2 (Dense)              (None, 10)                310       \n",
      "=================================================================\n",
      "Total params: 81,840\n",
      "Trainable params: 81,840\n",
      "Non-trainable params: 0\n",
      "_________________________________________________________________\n"
     ]
    }
   ],
   "source": [
    "from tensorflow.keras.layers import Dense,Flatten\n",
    "from tensorflow.keras.models import Sequential\n",
    "\n",
    "model = Sequential([\n",
    "    Flatten(input_shape=(28,28)),\n",
    "    Dense(100, activation='relu'),\n",
    "    Dense(30, activation='relu'),\n",
    "    Dense(10, activation='softmax')\n",
    "])\n",
    "\n",
    "model.summary()"
   ]
  },
  {
   "cell_type": "markdown",
   "metadata": {},
   "source": [
    "### categorical crossentropy를 적용하려면 target값은 반드시 ```one hot encoding``` 해야된다\n",
    "one hot encoding 안할거면 sparse_categorical_crossentropy 사용"
   ]
  },
  {
   "cell_type": "code",
   "execution_count": 4,
   "metadata": {},
   "outputs": [],
   "source": [
    "from tensorflow.keras.optimizers import Adam\n",
    "from tensorflow.keras.losses import CategoricalCrossentropy\n",
    "from tensorflow.keras.metrics import Accuracy\n",
    "\n",
    "model.compile(optimizer=Adam(0.001), loss='categorical_crossentropy', metrics=['accuracy'])"
   ]
  },
  {
   "cell_type": "code",
   "execution_count": 5,
   "metadata": {},
   "outputs": [
    {
     "name": "stdout",
     "output_type": "stream",
     "text": [
      "Epoch 1/20\n",
      "1875/1875 [==============================] - 2s 957us/step - loss: 4.2487 - accuracy: 0.3506\n",
      "Epoch 2/20\n",
      "1875/1875 [==============================] - 2s 982us/step - loss: 0.9003 - accuracy: 0.6555\n",
      "Epoch 3/20\n",
      "1875/1875 [==============================] - 2s 921us/step - loss: 0.7486 - accuracy: 0.7050\n",
      "Epoch 4/20\n",
      "1875/1875 [==============================] - 2s 925us/step - loss: 0.6552 - accuracy: 0.7358\n",
      "Epoch 5/20\n",
      "1875/1875 [==============================] - 2s 922us/step - loss: 0.5785 - accuracy: 0.7716\n",
      "Epoch 6/20\n",
      "1875/1875 [==============================] - 2s 959us/step - loss: 0.5234 - accuracy: 0.8109\n",
      "Epoch 7/20\n",
      "1875/1875 [==============================] - 2s 969us/step - loss: 0.4763 - accuracy: 0.8412\n",
      "Epoch 8/20\n",
      "1875/1875 [==============================] - 2s 930us/step - loss: 0.4511 - accuracy: 0.8508\n",
      "Epoch 9/20\n",
      "1875/1875 [==============================] - 2s 928us/step - loss: 0.4320 - accuracy: 0.8578\n",
      "Epoch 10/20\n",
      "1875/1875 [==============================] - 2s 923us/step - loss: 0.4162 - accuracy: 0.8595\n",
      "Epoch 11/20\n",
      "1875/1875 [==============================] - 2s 923us/step - loss: 0.4085 - accuracy: 0.8646\n",
      "Epoch 12/20\n",
      "1875/1875 [==============================] - 2s 919us/step - loss: 0.3932 - accuracy: 0.8670\n",
      "Epoch 13/20\n",
      "1875/1875 [==============================] - 2s 928us/step - loss: 0.3925 - accuracy: 0.8689\n",
      "Epoch 14/20\n",
      "1875/1875 [==============================] - 2s 932us/step - loss: 0.3772 - accuracy: 0.8716\n",
      "Epoch 15/20\n",
      "1875/1875 [==============================] - 2s 917us/step - loss: 0.3797 - accuracy: 0.8738\n",
      "Epoch 16/20\n",
      "1875/1875 [==============================] - 2s 931us/step - loss: 0.3679 - accuracy: 0.8776\n",
      "Epoch 17/20\n",
      "1875/1875 [==============================] - 2s 920us/step - loss: 0.3740 - accuracy: 0.8733\n",
      "Epoch 18/20\n",
      "1875/1875 [==============================] - 2s 927us/step - loss: 0.3515 - accuracy: 0.8816\n",
      "Epoch 19/20\n",
      "1875/1875 [==============================] - 2s 912us/step - loss: 0.3626 - accuracy: 0.8787\n",
      "Epoch 20/20\n",
      "1875/1875 [==============================] - 2s 917us/step - loss: 0.3492 - accuracy: 0.8828\n",
      "[1.9628344774246216, 0.8642868399620056, 0.727519154548645, 0.6303244829177856, 0.5662640333175659, 0.5190690159797668, 0.47416162490844727, 0.4513481855392456, 0.4343934953212738, 0.4187411963939667, 0.4082818627357483, 0.4003327488899231, 0.38909614086151123, 0.3834531903266907, 0.3766142725944519, 0.37029847502708435, 0.37409213185310364, 0.360027551651001, 0.35785096883773804, 0.35020849108695984]\n",
      "[0.44304999709129333, 0.6654666662216187, 0.7111999988555908, 0.7435166835784912, 0.7816333174705505, 0.8172500133514404, 0.8411833047866821, 0.8501833081245422, 0.8573499917984009, 0.8597833514213562, 0.8642833232879639, 0.8661166429519653, 0.8695166707038879, 0.8715333342552185, 0.8741000294685364, 0.8772833347320557, 0.8746333122253418, 0.879016637802124, 0.8798499703407288, 0.8825166821479797]\n"
     ]
    }
   ],
   "source": [
    "from tensorflow.keras.utils import to_categorical\n",
    "\n",
    "train_oh_labels = to_categorical(train_labels)\n",
    "test_oh_labels = to_categorical(test_labels)\n",
    "\n",
    "history = model.fit(x=train_images, y=train_oh_labels, batch_size=32, epochs=20, verbose=1)\n",
    "print(history.history['loss'])\n",
    "print(history.history['accuracy'])"
   ]
  },
  {
   "cell_type": "code",
   "execution_count": 6,
   "metadata": {},
   "outputs": [
    {
     "name": "stdout",
     "output_type": "stream",
     "text": [
      "(10000, 10)\n"
     ]
    }
   ],
   "source": [
    "pred_proba = model.predict(test_images)\n",
    "print(pred_proba.shape)"
   ]
  },
  {
   "cell_type": "markdown",
   "metadata": {},
   "source": [
    "전체 데이터셋을 predict할 경우 위의 cell처럼 n개의 28 * 28개의 데이터를 넣으면 되는데 하나의 이미지만 predict 시킬 때는 차원을 바꿔줘야한다\n",
    "\n",
    "```(10000,28,28)```형태로 3차원이어야 하는데 test_images[0]으로 하나의 이미지만 불러오면 ```(28,28)``` 이런식이기 때문\n",
    "\n",
    "```np.expand_dims```을 이용하여 차원을 늘려준다( []를 한겹 더 씌워준다고 생각하면됨)"
   ]
  },
  {
   "cell_type": "code",
   "execution_count": 7,
   "metadata": {},
   "outputs": [
    {
     "data": {
      "text/plain": [
       "(28, 28)"
      ]
     },
     "execution_count": 7,
     "metadata": {},
     "output_type": "execute_result"
    }
   ],
   "source": [
    "test_images[0].shape"
   ]
  },
  {
   "cell_type": "markdown",
   "metadata": {},
   "source": [
    "predict하여 각각의 class값에 대해 softmax 값을 구함\n",
    "\n",
    "np.argmax로 최대값을 고른다\n",
    "\n",
    "np.squeeze를 하면 predict를 할때 expand_dims로 차원을 늘린것을 다시 축소시켜준다"
   ]
  },
  {
   "cell_type": "code",
   "execution_count": 8,
   "metadata": {},
   "outputs": [
    {
     "name": "stdout",
     "output_type": "stream",
     "text": [
      "softmax output :  [[5.2819957e-36 0.0000000e+00 0.0000000e+00 3.1718872e-32 0.0000000e+00\n",
      "  2.9044633e-03 2.0338887e-38 6.2157996e-02 2.3677951e-20 9.3493748e-01]]\n",
      "predicted class value :  9\n"
     ]
    }
   ],
   "source": [
    "pred_proba = model.predict(np.expand_dims(test_images[0], axis=0))\n",
    "print('softmax output : ', pred_proba)\n",
    "pred = np.argmax(np.squeeze(pred_proba))\n",
    "print('predicted class value : ', pred)"
   ]
  },
  {
   "cell_type": "code",
   "execution_count": 9,
   "metadata": {
    "scrolled": true
   },
   "outputs": [
    {
     "name": "stdout",
     "output_type": "stream",
     "text": [
      "157/157 [==============================] - 0s 712us/step - loss: 0.4810 - accuracy: 0.8502\n"
     ]
    },
    {
     "data": {
      "text/plain": [
       "[0.4810119569301605, 0.8501999974250793]"
      ]
     },
     "execution_count": 9,
     "metadata": {},
     "output_type": "execute_result"
    }
   ],
   "source": [
    "model.evaluate(test_images, test_oh_labels, batch_size=64)"
   ]
  },
  {
   "cell_type": "markdown",
   "metadata": {},
   "source": [
    "### 검증 데이터 셋 이용하기"
   ]
  },
  {
   "cell_type": "code",
   "execution_count": 14,
   "metadata": {},
   "outputs": [
    {
     "name": "stdout",
     "output_type": "stream",
     "text": [
      "(51000, 28, 28) (9000, 28, 28)\n",
      "(51000, 10) (9000, 10)\n"
     ]
    }
   ],
   "source": [
    "from sklearn.model_selection import train_test_split\n",
    "\n",
    "(train_images, train_labels), (test_images, test_labels) = fashion_mnist.load_data()\n",
    "tr_images, val_images, tr_labels, val_labels = train_test_split(train_images, train_labels,\n",
    "                                                               test_size=0.15,\n",
    "                                                               random_state=23)\n",
    "\n",
    "print(tr_images.shape, val_images.shape)\n",
    "\n",
    "tr_oh_labels = to_categorical(tr_labels)\n",
    "val_oh_labels = to_categorical(val_labels)\n",
    "\n",
    "print(tr_oh_labels.shape, val_oh_labels.shape)"
   ]
  },
  {
   "cell_type": "code",
   "execution_count": 16,
   "metadata": {
    "scrolled": true
   },
   "outputs": [
    {
     "name": "stdout",
     "output_type": "stream",
     "text": [
      "Epoch 1/20\n",
      "1594/1594 [==============================] - 2s 1ms/step - loss: 5.6233 - accuracy: 0.4532 - val_loss: 1.2053 - val_accuracy: 0.5208\n",
      "Epoch 2/20\n",
      "1594/1594 [==============================] - 2s 1ms/step - loss: 1.1223 - accuracy: 0.5387 - val_loss: 1.0672 - val_accuracy: 0.5538\n",
      "Epoch 3/20\n",
      "1594/1594 [==============================] - 2s 1ms/step - loss: 0.9733 - accuracy: 0.5944 - val_loss: 0.8742 - val_accuracy: 0.6634\n",
      "Epoch 4/20\n",
      "1594/1594 [==============================] - 2s 1ms/step - loss: 0.8217 - accuracy: 0.6797 - val_loss: 0.7072 - val_accuracy: 0.7218\n",
      "Epoch 5/20\n",
      "1594/1594 [==============================] - 2s 1ms/step - loss: 0.6600 - accuracy: 0.7341 - val_loss: 0.5997 - val_accuracy: 0.7564\n",
      "Epoch 6/20\n",
      "1594/1594 [==============================] - 2s 1ms/step - loss: 0.5998 - accuracy: 0.7541 - val_loss: 0.6078 - val_accuracy: 0.7643\n",
      "Epoch 7/20\n",
      "1594/1594 [==============================] - 2s 1ms/step - loss: 0.5865 - accuracy: 0.7561 - val_loss: 0.5914 - val_accuracy: 0.7638\n",
      "Epoch 8/20\n",
      "1594/1594 [==============================] - 2s 1ms/step - loss: 0.5562 - accuracy: 0.7700 - val_loss: 0.5441 - val_accuracy: 0.7873\n",
      "Epoch 9/20\n",
      "1594/1594 [==============================] - 2s 1ms/step - loss: 0.5453 - accuracy: 0.7811 - val_loss: 0.5155 - val_accuracy: 0.8127\n",
      "Epoch 10/20\n",
      "1594/1594 [==============================] - 2s 1ms/step - loss: 0.5145 - accuracy: 0.8091 - val_loss: 0.4773 - val_accuracy: 0.8370\n",
      "Epoch 11/20\n",
      "1594/1594 [==============================] - 2s 1ms/step - loss: 0.4520 - accuracy: 0.8437 - val_loss: 0.4938 - val_accuracy: 0.8436\n",
      "Epoch 12/20\n",
      "1594/1594 [==============================] - 2s 1ms/step - loss: 0.4237 - accuracy: 0.8552 - val_loss: 0.4278 - val_accuracy: 0.8556\n",
      "Epoch 13/20\n",
      "1594/1594 [==============================] - 2s 1ms/step - loss: 0.4043 - accuracy: 0.8604 - val_loss: 0.4260 - val_accuracy: 0.8529\n",
      "Epoch 14/20\n",
      "1594/1594 [==============================] - 2s 1ms/step - loss: 0.3912 - accuracy: 0.8634 - val_loss: 0.4251 - val_accuracy: 0.8598\n",
      "Epoch 15/20\n",
      "1594/1594 [==============================] - 2s 1ms/step - loss: 0.3806 - accuracy: 0.8659 - val_loss: 0.4314 - val_accuracy: 0.8592\n",
      "Epoch 16/20\n",
      "1594/1594 [==============================] - 2s 1ms/step - loss: 0.3901 - accuracy: 0.8645 - val_loss: 0.4124 - val_accuracy: 0.8637\n",
      "Epoch 17/20\n",
      "1594/1594 [==============================] - 2s 1ms/step - loss: 0.3635 - accuracy: 0.8716 - val_loss: 0.4165 - val_accuracy: 0.8593\n",
      "Epoch 18/20\n",
      "1594/1594 [==============================] - 2s 1ms/step - loss: 0.3608 - accuracy: 0.8706 - val_loss: 0.3994 - val_accuracy: 0.8630\n",
      "Epoch 19/20\n",
      "1594/1594 [==============================] - 2s 1ms/step - loss: 0.3426 - accuracy: 0.8799 - val_loss: 0.4610 - val_accuracy: 0.8594\n",
      "Epoch 20/20\n",
      "1594/1594 [==============================] - 2s 1ms/step - loss: 0.3499 - accuracy: 0.8785 - val_loss: 0.4003 - val_accuracy: 0.8633\n"
     ]
    }
   ],
   "source": [
    "model = Sequential([\n",
    "    Flatten(input_shape=(28,28)),\n",
    "    Dense(100, activation='relu'),\n",
    "    Dense(30, activation='relu'),\n",
    "    Dense(10, activation='softmax')\n",
    "])\n",
    "\n",
    "model.compile(optimizer=Adam(0.001), loss='categorical_crossentropy', metrics=['accuracy'])\n",
    "\n",
    "history = model.fit(x=tr_images, y=tr_oh_labels, batch_size=32, epochs=20, verbose=1,\n",
    "                   validation_data=(val_images, val_oh_labels))"
   ]
  },
  {
   "cell_type": "markdown",
   "metadata": {},
   "source": [
    "### 훈련데이터와 검증데이터 정확도 비교\n",
    "- plt.show()하면 범주가 나오지않는다\n",
    "- plt.legend()를 해주면 나온다"
   ]
  },
  {
   "cell_type": "code",
   "execution_count": 22,
   "metadata": {},
   "outputs": [
    {
     "data": {
      "text/plain": [
       "<matplotlib.legend.Legend at 0x2001be1cdc0>"
      ]
     },
     "execution_count": 22,
     "metadata": {},
     "output_type": "execute_result"
    },
    {
     "data": {
      "image/png": "[encoded data removed]",
      "text/plain": [
       "<Figure size 432x288 with 1 Axes>"
      ]
     },
     "metadata": {
      "needs_background": "light"
     },
     "output_type": "display_data"
    }
   ],
   "source": [
    "import matplotlib.pyplot as plt\n",
    "%matplotlib inline\n",
    "\n",
    "plt.plot(history.history['accuracy'], label='train')\n",
    "plt.plot(history.history['val_accuracy'], label='valid')\n",
    "plt.legend()"
   ]
  },
  {
   "cell_type": "code",
   "execution_count": 23,
   "metadata": {},
   "outputs": [
    {
     "data": {
      "text/plain": [
       "<matplotlib.legend.Legend at 0x200806b6d00>"
      ]
     },
     "execution_count": 23,
     "metadata": {},
     "output_type": "execute_result"
    },
    {
     "data": {
      "image/png": "[encoded data removed]",
      "text/plain": [
       "<Figure size 432x288 with 1 Axes>"
      ]
     },
     "metadata": {
      "needs_background": "light"
     },
     "output_type": "display_data"
    }
   ],
   "source": [
    "plt.plot(history.history['loss'], label='train')\n",
    "plt.plot(history.history['val_loss'], label='valid')\n",
    "plt.legend()"
   ]
  }
 ],
 "metadata": {
  "kernelspec": {
   "display_name": "Python 3",
   "language": "python",
   "name": "python3"
  },
  "language_info": {
   "codemirror_mode": {
    "name": "ipython",
    "version": 3
   },
   "file_extension": ".py",
   "mimetype": "text/x-python",
   "name": "python",
   "nbconvert_exporter": "python",
   "pygments_lexer": "ipython3",
   "version": "3.8.3"
  },
  "toc": {
   "base_numbering": 1,
   "nav_menu": {},
   "number_sections": true,
   "sideBar": true,
   "skip_h1_title": false,
   "title_cell": "Table of Contents",
   "title_sidebar": "Contents",
   "toc_cell": false,
   "toc_position": {},
   "toc_section_display": true,
   "toc_window_display": false
  }
 },
 "nbformat": 4,
 "nbformat_minor": 4
}
